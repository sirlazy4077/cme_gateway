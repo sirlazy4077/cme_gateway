{
 "cells": [
  {
   "cell_type": "code",
   "execution_count": null,
   "metadata": {},
   "outputs": [
    {
     "ename": "",
     "evalue": "",
     "output_type": "error",
     "traceback": [
      "\u001b[1;31mRunning cells with 'h:\\Python Scripts\\Python\\python.exe' requires the ipykernel package.\n",
      "\u001b[1;31mRun the following command to install 'ipykernel' into the Python environment. \n",
      "\u001b[1;31mCommand: '\"h:/Python Scripts/Python/python.exe\" -m pip install ipykernel -U --user --force-reinstall'"
     ]
    }
   ],
   "source": [
    "\n",
    "# import modules\n",
    "import pandas as pd\n",
    "import numpy as np\n",
    "import datetime\n",
    "\n",
    "# import file, DO NOT CHANGE FILE NAME ON DOWNLOAD FROM CME GATEWAY\n",
    "df = pd.read_csv('CMEgateway.csv')\n",
    "\n",
    "# drop the non-date and non-credit type and amount columns\n",
    "df.drop(df.iloc[:, 0:4], inplace=True, axis=1)\n",
    "df.drop(df.iloc[:,1:7], inplace=True, axis=1)\n",
    "\n",
    "# parse the year from the date column, needs to be cast to a datetime\n",
    "df['Date'] = pd.to_datetime(df['Date'])\n",
    "df['Date'] = df['Date'].dt.year\n",
    "\n",
    "# reduce to only mpcec credits for analysis, then delete column\n",
    "mpcec = df['CME Total - Credit Type'] == 'MPCEC'\n",
    "df = df[mpcec]\n",
    "df.drop('CME Total - Credit Type', inplace=True, axis=1)\n",
    "\n",
    "# pivot on year\n",
    "pivot = pd.pivot_table(data=df, index='Date', aggfunc='sum')\n",
    "\n",
    "# get the current year to check previous years against\n",
    "this_year = datetime.datetime.now().year\n",
    "\n",
    "# TODO: set up bins from current year to the last remaining year, look/fill blanks\n",
    "\n",
    "\n",
    "# TODO: divide up into 3-year bins, except for the earliest which is a 4-year bin\n",
    "years = df['Date']\n",
    "\n",
    "\n",
    "# TODO: sum bins, then check against minimum required (>=75 per 3-year bin)\n",
    "\n",
    "\n",
    "# TODO: if all bins pass, say user is meeting, otherwise warn them\n",
    "\n",
    "\n",
    "# TODO ???: show deficits for current and upcoming years and bins?"
   ]
  },
  {
   "cell_type": "code",
   "execution_count": 64,
   "metadata": {},
   "outputs": [
    {
     "name": "stdout",
     "output_type": "stream",
     "text": [
      "      CME Total - Earned\n",
      "Date                    \n",
      "2016                1.00\n",
      "2017               27.25\n",
      "2018               28.75\n",
      "2019               65.50\n",
      "2020               28.00\n",
      "2021                2.00\n",
      "2022               24.75\n",
      "2023                0.50\n"
     ]
    }
   ],
   "source": [
    "print(pivot)"
   ]
  }
 ],
 "metadata": {
  "kernelspec": {
   "display_name": "Python 3",
   "language": "python",
   "name": "python3"
  },
  "language_info": {
   "codemirror_mode": {
    "name": "ipython",
    "version": 3
   },
   "file_extension": ".py",
   "mimetype": "text/x-python",
   "name": "python",
   "nbconvert_exporter": "python",
   "pygments_lexer": "ipython3",
   "version": "3.10.7"
  },
  "orig_nbformat": 4,
  "vscode": {
   "interpreter": {
    "hash": "36ccd2bdc80d1229714122126a3826856570829ffc951410b4d92085d6ca8843"
   }
  }
 },
 "nbformat": 4,
 "nbformat_minor": 2
}
